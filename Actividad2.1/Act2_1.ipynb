{
 "cells": [
  {
   "cell_type": "code",
   "execution_count": null,
   "id": "import-libraries",
   "metadata": {},
   "outputs": [],
   "source": [
    "import pandas as pd\n",
    "\n",
    "# Cargar el archivo CSV\n",
    "file_path = 'sandiego_estadosunidos.csv'  # Asegúrate de tener el archivo en la misma carpeta\n",
    "df = pd.read_csv(file_path)\n",
    "\n",
    "# Mostrar las primeras filas para analizar la estructura del archivo\n",
    "df.head()"
   ]
  },
  {
   "cell_type": "code",
   "execution_count": null,
   "id": "apply-filters",
   "metadata": {},
   "outputs": [],
   "source": [
    "# a) Filtrar registros con 5 'host name' diferentes\n",
    "unique_hosts = df['host_name'].dropna().unique()[:5]\n",
    "df_a = df[df['host_name'].isin(unique_hosts)]\n",
    "df_a.to_csv('filtro_a.csv', index=False)"
   ]
  },
  {
   "cell_type": "code",
   "execution_count": null,
   "metadata": {},
   "outputs": [],
   "source": [
    "# b) Filtrar registros de hosts que se unieron a Airbnb después del año 2020\n",
    "df_b = df[pd.to_datetime(df['host_since']) > '2020-12-31']\n",
    "df_b.to_csv('filtro_b.csv', index=False)"
   ]
  },
  {
   "cell_type": "code",
   "execution_count": null,
   "metadata": {},
   "outputs": [],
   "source": [
    "# c) Filtrar registros de los hosts que responden 'a más tardar en 1 día'\n",
    "valid_response_times = ['within an hour', 'within a few hours', 'within a day']\n",
    "df_c = df[df['host_response_time'].isin(valid_response_times)]\n",
    "df_c.to_csv('filtro_c.csv', index=False)"
   ]
  },
  {
   "cell_type": "code",
   "execution_count": null,
   "metadata": {},
   "outputs": [],
   "source": [
    "# d) Filtrar registros de las filas múltiplos de 200 (400, 600, 800, etc.)\n",
    "df_d = df.iloc[::200, :]\n",
    "df_d.to_csv('filtro_d.csv', index=False)"
   ]
  },
  {
   "cell_type": "code",
   "execution_count": null,
   "metadata": {},
   "outputs": [],
   "source": [
    "# e) Filtrar registros de los tipos de cuarto 'Entire home' y 'Private room'\n",
    "df_e = df[df['room_type'].isin(['Entire home/apt', 'Private room'])]\n",
    "df_e.to_csv('filtro_e.csv', index=False)"
   ]
  },
  {
   "cell_type": "code",
   "execution_count": null,
   "metadata": {},
   "outputs": [],
   "source": [
    "# f) Filtrar registros que cuenten con a lo mucho 4 camas\n",
    "df_f = df[df['beds'] <= 4]\n",
    "df_f.to_csv('filtro_f.csv', index=False)"
   ]
  },
  {
   "cell_type": "code",
   "execution_count": null,
   "metadata": {},
   "outputs": [],
   "source": [
    "# g) Filtrar registros de hosts que sean superhost\n",
    "df_g = df[df['host_is_superhost'] == 't']\n",
    "df_g.to_csv('filtro_g.csv', index=False)"
   ]
  },
  {
   "cell_type": "code",
   "execution_count": null,
   "metadata": {},
   "outputs": [],
   "source": [
    "# h) Seleccionar solo las columnas impares\n",
    "df_h = df.iloc[:, ::2]\n",
    "df_h.to_csv('filtro_h.csv', index=False)"
   ]
  },
  {
   "cell_type": "code",
   "execution_count": null,
   "metadata": {},
   "outputs": [],
   "source": [
    "print('Archivos filtrados guardados exitosamente.')"
   ]
  }
 ],
 "metadata": {
  "kernelspec": {
   "display_name": "Python 3",
   "language": "python",
   "name": "python3"
  },
  "language_info": {
   "codemirror_mode": {
    "name": "ipython",
    "version": 3
   },
   "file_extension": ".py",
   "mimetype": "text/x-python",
   "name": "python",
   "nbconvert_exporter": "python",
   "pygments_lexer": "ipython3",
   "version": "3.13.2"
  }
 },
 "nbformat": 4,
 "nbformat_minor": 4
}
